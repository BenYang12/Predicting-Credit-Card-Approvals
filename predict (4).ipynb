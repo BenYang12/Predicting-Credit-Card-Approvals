{
 "cells": [
  {
   "cell_type": "code",
   "execution_count": 60,
   "id": "39c4f737-74d7-4f64-945b-616ea29b5ce1",
   "metadata": {},
   "outputs": [],
   "source": [
    "#Necessary Libraries\n",
    "import pandas as pd\n",
    "import numpy as np\n",
    "import matplotlib.pyplot as plt\n",
    "from sklearn.model_selection import train_test_split\n",
    "from sklearn.preprocessing import StandardScaler\n",
    "from sklearn.linear_model import LogisticRegression\n",
    "from sklearn.metrics import confusion_matrix, roc_curve\n",
    "from sklearn.model_selection import GridSearchCV\n",
    "from sklearn.model_selection import KFold\n",
    "\n"
   ]
  },
  {
   "cell_type": "code",
   "execution_count": 61,
   "id": "b4062d41-ee55-4be7-90c7-ac6d81a406ef",
   "metadata": {},
   "outputs": [
    {
     "name": "stdout",
     "output_type": "stream",
     "text": [
      "    0      1       2  3  4   5   6     7  8  9   10 11 12     13   14 15\n",
      "0    b  30.83   0.000  u  g   w   v  1.25  t  t   1  f  g  00202    0  +\n",
      "1    a  58.67   4.460  u  g   q   h  3.04  t  t   6  f  g  00043  560  +\n",
      "2    a  24.50   0.500  u  g   q   h  1.50  t  f   0  f  g  00280  824  +\n",
      "3    b  27.83   1.540  u  g   w   v  3.75  t  t   5  t  g  00100    3  +\n",
      "4    b  20.17   5.625  u  g   w   v  1.71  t  f   0  f  s  00120    0  +\n",
      "..  ..    ...     ... .. ..  ..  ..   ... .. ..  .. .. ..    ...  ... ..\n",
      "685  b  21.08  10.085  y  p   e   h  1.25  f  f   0  f  g  00260    0  -\n",
      "686  a  22.67   0.750  u  g   c   v  2.00  f  t   2  t  g  00200  394  -\n",
      "687  a  25.25  13.500  y  p  ff  ff  2.00  f  t   1  t  g  00200    1  -\n",
      "688  b  17.92   0.205  u  g  aa   v  0.04  f  f   0  f  g  00280  750  -\n",
      "689  b  35.00   3.375  u  g   c   h  8.29  f  f   0  t  g  00000    0  -\n",
      "\n",
      "[690 rows x 16 columns]\n"
     ]
    }
   ],
   "source": [
    "#Load the Dataset\n",
    "cc_apps = pd.read_csv(\"crx.data\", header = None)\n",
    "print(cc_apps)"
   ]
  },
  {
   "cell_type": "code",
   "execution_count": 62,
   "id": "42e7d4ca-9cd0-4886-b7d7-6459b078d077",
   "metadata": {},
   "outputs": [],
   "source": [
    "\n",
    "#Preprocessing, replacing \"?\" and inputing\n",
    "cc_apps_nans_replaced = cc_apps.replace(\"?\", np.NaN)\n",
    "cc_apps_imputed = cc_apps_nans_replaced.copy() #deep copy -> completely new object created, changes made here will not affect cc_apps_nans_replaced\n",
    "\n",
    "#We can't have missing data\n",
    "#for each column of cc_apps_nans_replaced, impute the mode for object data types and mean for numeric data types\n",
    "for column in cc_apps_imputed.columns:\n",
    "    if cc_apps_imputed[column].dtypes == \"object\":#impute mode for object\n",
    "        #.value_counts() returns in descending order, so biggest is first\n",
    "        cc_apps_imputed[column] = cc_apps_imputed[column].fillna(cc_apps_imputed[column].value_counts().index[0])\n",
    "    else:#impute mode for numeric\n",
    "        cc_apps_imputed[column] = cc_apps_imputed[column].fillna(cc_apps_imputed[column].mean())\n",
    "\n",
    "#Now I need to deal with categorical features -> encode with pandas get_dummies()\n",
    "cc_apps_dumified = pd.get_dummies(cc_apps_imputed, drop_first = True)\n",
    "\n",
    "\n",
    "        \n",
    "        \n",
    "\n",
    "\n",
    "\n",
    "\n",
    "\n",
    "\n"
   ]
  },
  {
   "cell_type": "code",
   "execution_count": 63,
   "id": "dc954776-a7e9-4363-a1b2-e9529f7cc651",
   "metadata": {},
   "outputs": [],
   "source": [
    "#Now that preprocessing is done, I can identify target variable and features\n",
    "#Then, I can split into training and testing sets\n",
    "#iloc is uses implicit indexes aka the numbers\n",
    "\n",
    "#Last Column (one with + (approved) -(denied) is target \n",
    "y = cc_apps_dumified.iloc[:, -1].values #all rows, last column\n",
    "\n",
    "#Everything else will be features\n",
    "X = cc_apps_dumified.iloc[:, :-1].values #all rows, all columns except last\n",
    "\n",
    "#use train_test_split\n",
    "X_train,X_test,y_train,y_test = train_test_split(X,y,test_size = 0.3,random_state = 21, stratify = y)\n",
    "\n",
    "\n",
    "\n",
    "\n",
    "        "
   ]
  },
  {
   "cell_type": "code",
   "execution_count": 64,
   "id": "9592c60f-b65a-4112-a050-63b122542518",
   "metadata": {},
   "outputs": [],
   "source": [
    "#Many models use some form of distance to inform them -> my data needs to be scaled\n",
    "\n",
    "#Instantiate StandardScaler and use it to rescale X_train and X_test\n",
    "scaler = StandardScaler()\n",
    "X_train_scaled = scaler.fit_transform(X_train)\n",
    "X_test_scaled = scaler.transform(X_test)\n",
    "\n",
    "#Now I can instantiate a LogisticRegression classifier and fit it to training set\n",
    "#LogReg used to predict probability of binary outcome, uses sigmoid function to map the output to a probability that is always between 0 and 1\n",
    "logreg = LogisticRegression()\n",
    "logreg.fit(X_train_scaled,y_train)\n",
    "\n",
    "#predict instances from training set\n",
    "y_train_pred = logreg.predict(X_train_scaled)\n",
    "\n",
    "\n",
    "\n",
    "      \n"
   ]
  },
  {
   "cell_type": "code",
   "execution_count": 65,
   "id": "889bf52a-eced-409c-8acc-d59f1d4e5cec",
   "metadata": {},
   "outputs": [
    {
     "name": "stdout",
     "output_type": "stream",
     "text": [
      "Best: 0.832253 using {'max_iter': 100, 'tol': 0.001}\n",
      "Accuracy of logistic regression classifier:  0.8067632850241546\n"
     ]
    }
   ],
   "source": [
    "#Hyperparameter Tuning\n",
    "\n",
    "# Define the grid of values for tol and max_iter\n",
    "tol = [0.01, 0.001, 0.0001]\n",
    "max_iter = [100, 150, 200]\n",
    "\n",
    "#param grid\n",
    "param_grid = {\"tol\": tol, \"max_iter\": max_iter}\n",
    "\n",
    "#Instantiate GridSearchCV and fit it to data\n",
    "kf = KFold(n_splits = 6, shuffle = True, random_state = 21)\n",
    "logreg_cv = GridSearchCV(logreg,param_grid = param_grid, cv = kf)\n",
    "logreg_cv_result = logreg_cv.fit(X_train_scaled, y_train)\n",
    "\n",
    "#Summarize results and extract best model for evaluation on test set\n",
    "best_train_score, best_train_params = logreg_cv_result.best_score_, logreg_cv_result.best_params_\n",
    "print(\"Best: %f using %s\" % (best_train_score, best_train_params))\n",
    "\n",
    "best_model = logreg_cv_result.best_estimator_\n",
    "best_score = best_model.score(X_test_scaled, y_test)\n",
    "print(\"Accuracy of logistic regression classifier: \", best_score)\n",
    "\n"
   ]
  },
  {
   "cell_type": "code",
   "execution_count": 66,
   "id": "97459061-232d-47b1-8872-a20f78d2f1c5",
   "metadata": {},
   "outputs": [
    {
     "data": {
      "image/png": "[encoded data removed]",
      "text/plain": [
       "<Figure size 640x480 with 1 Axes>"
      ]
     },
     "metadata": {},
     "output_type": "display_data"
    },
    {
     "name": "stdout",
     "output_type": "stream",
     "text": [
      "[[72 20]\n",
      " [20 95]]\n"
     ]
    }
   ],
   "source": [
    "#To evaluate performance of my logistic regression model, I can plot ROC curve\n",
    "#use predicted probabilities for the positive class on the TEST set\n",
    "y_test_proba = best_model.predict_proba(X_test)[:, 1]\n",
    "\n",
    "fpr, tpr, thresholds = roc_curve(y_test,y_test_proba)\n",
    "\n",
    "plt.plot([0,1], [0,1], 'k--')\n",
    "plt.plot(fpr,tpr)\n",
    "plt.xlabel('False Positive Rate')\n",
    "plt.ylabel('True Positive Rate')\n",
    "plt.title('Logistic Regression ROC Curve for Best Model')\n",
    "plt.show()\n",
    "\n",
    "\n",
    "# confusion matrix on test set\n",
    "y_test_pred = best_model.predict(X_test_scaled)\n",
    "print(confusion_matrix(y_test, y_test_pred))"
   ]
  },
  {
   "cell_type": "code",
   "execution_count": null,
   "id": "18216691-85e0-4128-9af5-8a3c4d56fac0",
   "metadata": {},
   "outputs": [],
   "source": []
  },
  {
   "cell_type": "code",
   "execution_count": null,
   "id": "ecf84473-324c-45a7-87fd-15d77088dc4b",
   "metadata": {},
   "outputs": [],
   "source": []
  },
  {
   "cell_type": "code",
   "execution_count": null,
   "id": "6bca0d34-5a96-4969-9f0b-2011f2d1d4ae",
   "metadata": {},
   "outputs": [],
   "source": []
  }
 ],
 "metadata": {
  "kernelspec": {
   "display_name": "anaconda-2024.02-py310",
   "language": "python",
   "name": "conda-env-anaconda-2024.02-py310-py"
  },
  "language_info": {
   "codemirror_mode": {
    "name": "ipython",
    "version": 3
   },
   "file_extension": ".py",
   "mimetype": "text/x-python",
   "name": "python",
   "nbconvert_exporter": "python",
   "pygments_lexer": "ipython3",
   "version": "3.10.14"
  }
 },
 "nbformat": 4,
 "nbformat_minor": 5
}
